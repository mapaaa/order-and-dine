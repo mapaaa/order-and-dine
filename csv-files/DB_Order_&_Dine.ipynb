{
  "nbformat": 4,
  "nbformat_minor": 0,
  "metadata": {
    "colab": {
      "name": "DB - Order & Dine",
      "version": "0.3.2",
      "provenance": [],
      "private_outputs": true,
      "collapsed_sections": [],
      "toc_visible": true
    },
    "kernelspec": {
      "name": "python3",
      "display_name": "Python 3"
    }
  },
  "cells": [
    {
      "metadata": {
        "id": "J4K0ogqwaEeZ",
        "colab_type": "code",
        "colab": {}
      },
      "cell_type": "code",
      "source": [
        "import pandas as pd"
      ],
      "execution_count": 0,
      "outputs": []
    },
    {
      "metadata": {
        "id": "SRWUstdue-0N",
        "colab_type": "text"
      },
      "cell_type": "markdown",
      "source": [
        "##Create csv: 'Specific'"
      ]
    },
    {
      "metadata": {
        "id": "kh-72uNNac2a",
        "colab_type": "code",
        "colab": {}
      },
      "cell_type": "code",
      "source": [
        "tabel_specific = pd.DataFrame({'cod_specific': [1, 2, 3, 4, 5, 6, 7, 8, 9, 10, \n",
        "                                               11, 12, 13, 14, 15, 16, 17, 18, 19],\n",
        "                               'nume_specific':['asian', 'british', 'cafe', \n",
        "                                                'chinese', 'european','fastfood',\n",
        "                                                'french', 'greek', 'grill', \n",
        "                                                'healthy', 'indian', 'italian',\n",
        "                                                'lebanese', 'mexican', 'pizza',\n",
        "                                                'seafood', 'spanish', 'romanian',\n",
        "                                                'vegetarian friendly'],\n",
        "                              })\n",
        "\n",
        "bd_specific = tabel_specific.to_csv(path_or_buf='Specific.csv', index=False)"
      ],
      "execution_count": 0,
      "outputs": []
    },
    {
      "metadata": {
        "id": "DzoHM7khaBYM",
        "colab_type": "code",
        "colab": {}
      },
      "cell_type": "code",
      "source": [
        "tabel_specific = pd.DataFrame({'cod_specific': [1, 2, 3, 4, 5, 6, 7, 8, 9, 10, \n",
        "                                               11, 12, 13, 14, 15, 16, 17, 18, 19],\n",
        "                               'nume_specific':['asian', 'british', 'cafe', \n",
        "                                                'chinese', 'european','fastfood',\n",
        "                                                'french', 'greek', 'grill', \n",
        "                                                'healthy', 'indian', 'italian',\n",
        "                                                'lebanese', 'mexican', 'pizza',\n",
        "                                                'seafood', 'spanish', 'romanian',\n",
        "                                                'vegetarian friendly'],\n",
        "                              })\n",
        "\n",
        "bd_specific = tabel_specific.to_csv(path_or_buf='Specific.csv', index=False)"
      ],
      "execution_count": 0,
      "outputs": []
    },
    {
      "metadata": {
        "id": "kWg68JLrZmD6",
        "colab_type": "text"
      },
      "cell_type": "markdown",
      "source": [
        "##Create csv: 'Intrare Meniu' "
      ]
    },
    {
      "metadata": {
        "id": "C8RAepKxoAMC",
        "colab_type": "code",
        "colab": {}
      },
      "cell_type": "code",
      "source": [
        "tabel_intrare_meniu = pd.DataFrame({'cod_intrare': [1, 2, 3, 4, 5, 6, 7, 8, 9, \n",
        "                                                    10, 11, 12, 13, 14, 15, 16, \n",
        "                                                    17, 18, 19, 20, 21, 22, 23,\n",
        "                                                    24, 25, 26, 27, 28],\n",
        "                                    'denumire_produs': ['NEGI TORO MAKI', \n",
        "                                                        'California Roll',\n",
        "                                                        'The Legendary',\n",
        "                                                        'The Manager',\n",
        "                                                        'Cappuccino',\n",
        "                                                        'Irish Coffee',\n",
        "                                                        'Hunan Chicken',\n",
        "                                                        'Mongolian Meatball Ramen',\n",
        "                                                        'True Selective',\n",
        "                                                        'Cheeseburger',\n",
        "                                                        'Prosciutto e Funghi',\n",
        "                                                        'Diavola',\n",
        "                                                        'Creamy Pasta',\n",
        "                                                        'Homemade Pie',\n",
        "                                                        'Kefalotyri saganaki',\n",
        "                                                        'Greek Salad', \n",
        "                                                        'Fattoush Salad',\n",
        "                                                        'Falafel',\n",
        "                                                        'Vegetable Taco',\n",
        "                                                        'Pork Taco', \n",
        "                                                        'Lobster Paella',\n",
        "                                                        'Sangria',\n",
        "                                                        'Knight`s dish',\n",
        "                                                        'Great Chancellor s Dish',\n",
        "                                                        'Traditional Romanian bulz',\n",
        "                                                        'Pavlova',\n",
        "                                                        'Rotisserie Chicken and Potato Chowder',\n",
        "                                                        'Pumpkin Soup'\n",
        "                                                       ],\n",
        "                                    'ingrediente': ['fatty tuna, spring onion, nori, furikake, wasabi', \n",
        "                                                    'Crab*, avocado, cucumber,tobiko,  black and white sesame seeds',\n",
        "                                                    'Angus Patty, Monterey Cheese, Crispy Bacon, Pickels, Lettuce',\n",
        "                                                    'Angus Patty, Monterey Cheese, Fried Egg, Tomatoes, Bacon, Arugula',\n",
        "                                                    '2 shots espresso, 4 ounces milk',\n",
        "                                                    '1 shot espresso, 3-5 teaspoons whisky, 1 teaspoon sugar',\n",
        "                                                    'chicken thighs, ginger, broccoli, red bell pepper, chilis, cornstarch, sesame oil',\n",
        "                                                    'ground beef, bread crumbs, egg, onion, garlic, red pepper, ramen, sesame seeds',\n",
        "                                                    'Halloumi, dried tomatoes, eggplant, pesto, rucolla',\n",
        "                                                    'Angus Patty, Cheese, Pickels, Lettuce, Ketchup, Mayo, Onion',\n",
        "                                                    'Tomato Sauce, Mozzarela, Ham, Mushrooms',\n",
        "                                                    'Tomato Sauce, Mozzarela, Salami',\n",
        "                                                    'Creamy pasta with gorgonzola, prosciuttocotto and zucchini',\n",
        "                                                    'Sweet cheese and raisins pie',\n",
        "                                                    'Kefalotyri cheese, lemon',\n",
        "                                                    'tomatoes, red bell pepper, cucumber, red onion, olives, Feta cheese, oregano',\n",
        "                                                    'Romaine lettuce, tomatoes, cucumbers, onion, mint, telemea cheese, pita bread croutons, pomegranate dressing',\n",
        "                                                    'Chickpeas, onion, parsley, fresh coriander',\n",
        "                                                    'Corn tortilla filled with vegetables and topped with melted cheese, sour cream and saucesc',\n",
        "                                                    'Corn tortilla filled with pork and topped with melted cheese, sour cream and sauces',\n",
        "                                                    'Lobster, Basmati rice, red pepper, onion, saffron, peas',\n",
        "                                                    'Pinot Noir, ripe fruit, brandy',\n",
        "                                                    'Very slowly braised veal shin with seasonal vegetables and horseradish',\n",
        "                                                    'Slowly roasted pork ribs with backed potatoes with rosemary',\n",
        "                                                    'Polenta, pan fried smoked meat, smoked sausages, Burduf cheese, Romanian telemea cheese and egg',\n",
        "                                                    'Mascarpone cream with meringue and fruits',\n",
        "                                                    'Water, bacon, butter, lettuce, red bell pepper',\n",
        "                                                    'Pumpkin, water, onion, garlic']\n",
        "                                   })\n",
        "bd_intrare_meniu = tabel_intrare_meniu.to_csv(path_or_buf='Feluri_de_Mancare.csv', index=False)"
      ],
      "execution_count": 0,
      "outputs": []
    },
    {
      "metadata": {
        "id": "2oWTuyYefNZp",
        "colab_type": "text"
      },
      "cell_type": "markdown",
      "source": [
        "##Create csv: 'Restaurant'"
      ]
    },
    {
      "metadata": {
        "id": "kGYqkwiIfd9D",
        "colab_type": "code",
        "colab": {}
      },
      "cell_type": "code",
      "source": [
        "tabel_restaurant = pd.DataFrame({'cod_restaurant':[1, 2, 3, 4, 5, 6, 7, 8, 9, 10,\n",
        "                                                  11, 12, 13, 14, 15, 16, 17, 18,\n",
        "                                                  19, 20, 21, 22, 23, 24, 25, 26,\n",
        "                                                  27],\n",
        "                               'nume':['Ginger Sushi Bar',21, 22, \n",
        "                                       'YUKI', \n",
        "                                       'St. Patrick Irish Pub & Restaurant',\n",
        "                                       'Casa Victoria Laminorului',\n",
        "                                       'ORYGYNS Specialty Coffee', \n",
        "                                       'Cafe Klein',\n",
        "                                       'Beijing Garden',\n",
        "                                       'China Town',\n",
        "                                       'Burgeria', \n",
        "                                       'Latin Pizza',\n",
        "                                       'Le Bistrot Francais', \n",
        "                                       'Les Bourgeois',\n",
        "                                       'Biomediterraneo',\n",
        "                                       'Nikos Greek Taverna Bucuresti',\n",
        "                                       'Berestroika Beer Revolution!',\n",
        "                                       'Haveli',\n",
        "                                       'Sharkia', \n",
        "                                       'Sindbad',\n",
        "                                       'Blue Margarita',\n",
        "                                       'El Torito',\n",
        "                                       'Pizzeria Volare', \n",
        "                                       'Belli Siciliani',\n",
        "                                       'ALIOLI', \n",
        "                                       'Restaurant La Finca by ALIOLI',\n",
        "                                       'Hanu Berarilor Casa Elena Lupescu',\n",
        "                                       'Zexe',\n",
        "                                       'Ciorbarie'],\n",
        "                               'adresa':['Calea Victoriei 63 - 81 | Sector 1, inside Radisson Blu Hotel, Bucharest 010065, Romania',\n",
        "                                         'Strada Putul lui Zamfir 5, Bucharest, Romania',\n",
        "                                         'Strada Smardan Nr. 23-25, Bucharest, Romania',\n",
        "                                         'Bulevardul Laminorului nr 107, Bucharest 012951, Romania',\n",
        "                                         'Strada Michelet Jules 12, Bucharest 010463, Romania',\n",
        "                                         'Strada Smardan 11, Bucharest 030071, Romania',\n",
        "                                         '66 Strada Berzei | Sector 1, Bucharest, Romania',\n",
        "                                         '98, Viitorului | Sector 2, Bucharest, Romania',\n",
        "                                         'Stirbei Voda 59, Bucharest, Romania', \n",
        "                                         'Ioan C. Bratianu, nr.34, sector 3, Bucharest 030177, Romania',\n",
        "                                         'Str. Nicolae Golescu, nr. 18, Bucharest 010293, Romania',\n",
        "                                         'Strada Smardan 20, Bucharest 030076, Romania',\n",
        "                                         'Strada Ion Campineanu 3A, Bucharest 030167, Romania',\n",
        "                                         'Bl. Burebista | 2, Bucharest 061344, Romania',\n",
        "                                         'Aleea Cauzasi, Bucharest 030803, Romania',\n",
        "                                         'Strada Episcopul Radu 3, Bucharest 020751, Romania',\n",
        "                                         'Strada Luterana 2-4 | Park Inn by Radisson Bucharest Hotel & Residence, Bucharest 010162, Romania',\n",
        "                                         'Lipscani Street, Bucharest, Romania',\n",
        "                                         'Strada Eminescu Mihai 188, Bucharest 020085, Romania',\n",
        "                                         'Str. Iancu Capitanu Nr. 30 | Sector 2, Bucharest, Romania',\n",
        "                                         'Calea Vacaresti nr.203B | Sector 4, Bucharest 040052, Romania',\n",
        "                                         'via Matasari 47, Bucharest, Romania', \n",
        "                                         '4 Popa Tatu Street | 1st District, Bucharest 010801, Romania',\n",
        "                                         'Str. Grigore Alexandrescu, Nr. 77, Sector 1, Bucharest 010624, Romania',\n",
        "                                         'Bulevardul Protopopescu Pache Nr. 51, Bucharest 021401, Romania',\n",
        "                                         'Str. Icoanei Nr. 80, Bucharest, Romania',\n",
        "                                         'Calea Dorobanti Nr. 73, Bucharest, Romania'],\n",
        "                               'preturi':['$$$', '$$$', '$$$', '$$$', '$$', '$$'\n",
        "                                         ,'$$$', '$$', '$', '$', '$$', '$$$', \n",
        "                                          '$$', '$$$', '$$', '$$$', '$$', '$$', \n",
        "                                          '$$','$$$', '$$$', '$$', '$$$', '$$', \n",
        "                                          '$$$', '$$', '$'],\n",
        "                              })\n",
        "\n",
        "bd_restaurant = tabel_restaurant.to_csv(path_or_buf='Restaurant.csv', index=False)"
      ],
      "execution_count": 0,
      "outputs": []
    },
    {
      "metadata": {
        "id": "tBjCqmV2w9l_",
        "colab_type": "code",
        "colab": {}
      },
      "cell_type": "code",
      "source": [
        "print (tabel_restaurant)"
      ],
      "execution_count": 0,
      "outputs": []
    },
    {
      "metadata": {
        "id": "RT21C_w9oxgn",
        "colab_type": "code",
        "colab": {}
      },
      "cell_type": "code",
      "source": [
        "print (tabel_specific)"
      ],
      "execution_count": 0,
      "outputs": []
    },
    {
      "metadata": {
        "id": "7IcV9BHZZu9h",
        "colab_type": "text"
      },
      "cell_type": "markdown",
      "source": [
        "##Create csv: 'Restaurant_Intrare_Meniu' \n"
      ]
    },
    {
      "metadata": {
        "id": "njyStlW9zt4C",
        "colab_type": "code",
        "colab": {}
      },
      "cell_type": "code",
      "source": [
        "tabel_restaurant_mancare = pd.DataFrame({'cod_rim': [1, 2, 3, 4, 5, 6, 7, 8, 9,\n",
        "                                                    10, 11, 12, 13, 14, 15, 16, \n",
        "                                                    17, 18, 19, 20, 21, 22, 23,\n",
        "                                                    24, 25, 26, 27, 28, 29, 30,\n",
        "                                                    31, 32, 33, 34, 35, 36, 37,\n",
        "                                                    38, 39, 40, 41, 42, 43, 44, \n",
        "                                                    45, 46, 47, 48, 49, 50, 51,\n",
        "                                                    52, 53, 54],\n",
        "                                          'cod_restaurant':[1, 1,\n",
        "                                                            2, 2,\n",
        "                                                            3, 3,\n",
        "                                                            4, 4,\n",
        "                                                            5, 5, \n",
        "                                                            6, 6, \n",
        "                                                            7, 7, \n",
        "                                                            8, 8,\n",
        "                                                            9, 9, \n",
        "                                                            10, 10,\n",
        "                                                            11, 11, \n",
        "                                                            12, 12, \n",
        "                                                            13, 13, \n",
        "                                                            14, 14, \n",
        "                                                            15, 15, \n",
        "                                                            16, 16, \n",
        "                                                            17, 17, \n",
        "                                                            18, 18, \n",
        "                                                            19, 19, \n",
        "                                                            20, 20, \n",
        "                                                            21, 21, \n",
        "                                                            22, 22, \n",
        "                                                            23, 23, \n",
        "                                                            24, 24, \n",
        "                                                            25, 25, \n",
        "                                                            26, 26, \n",
        "                                                            27, 27],\n",
        "                                          'cod_intrare_meniu': [1, 2,\n",
        "                                                                1, 2,\n",
        "                                                                3, 4, \n",
        "                                                                10, 6, \n",
        "                                                                5, 6,\n",
        "                                                                5, 6,\n",
        "                                                                7, 8,\n",
        "                                                                7, 8, \n",
        "                                                                10, 9, \n",
        "                                                                11, 12, \n",
        "                                                                5, 14, \n",
        "                                                                13, 14, \n",
        "                                                                16, 26, \n",
        "                                                                15, 16, \n",
        "                                                                2, 10, \n",
        "                                                                17, 18, \n",
        "                                                                17, 18, \n",
        "                                                                19, 20,\n",
        "                                                                19, 20,\n",
        "                                                                19, 20,\n",
        "                                                                21, 22, \n",
        "                                                                11, 12, \n",
        "                                                                21, 22,\n",
        "                                                                21, 22,\n",
        "                                                                23, 24, \n",
        "                                                                25, 26, \n",
        "                                                                27, 28\n",
        "                                                          ]\n",
        "                              })\n",
        "\n",
        "bd_restaurant_mancare = tabel_restaurant_mancare.to_csv(path_or_buf='Restaurant_Mancare.csv', index=False)"
      ],
      "execution_count": 0,
      "outputs": []
    },
    {
      "metadata": {
        "id": "yUCVrTH_ochB",
        "colab_type": "text"
      },
      "cell_type": "markdown",
      "source": [
        "##Create csv: \"Restaurant_Specific\""
      ]
    },
    {
      "metadata": {
        "id": "V5J30xmMoRnr",
        "colab_type": "code",
        "colab": {}
      },
      "cell_type": "code",
      "source": [
        "tabel_restaurant_specific = pd.DataFrame({'cod_rs': [1, 2, 3, 4, 5, 6, 7, 8, 9,\n",
        "                                                    10, 11, 12, 13, 14, 15, 16, \n",
        "                                                    17, 18, 19, 20, 21, 22, 23,\n",
        "                                                    24, 25, 26, 27, 28, 29, 30,\n",
        "                                                    31, 32, 33, 34, 35, 36, 37,\n",
        "                                                    38, 39, 40, 41, 42, 43, 44, \n",
        "                                                    45, 46, 47, 48, 49, 50, 51,\n",
        "                                                    52, 53, 54, 55, 56, 57, 58, \n",
        "                                                    59, 60, 61, 62, 63, 64, 65,\n",
        "                                                    66, 67, 68, 69, 70, 71, 72,\n",
        "                                                    73, 74, 75, 76, 77, 78],\n",
        "                                          'cod_restaurant':[1, 1, 1,\n",
        "                                                            2, 2, 2,\n",
        "                                                            3, 3,\n",
        "                                                            4, 4, 4, 4,\n",
        "                                                            5, \n",
        "                                                            6, 6, \n",
        "                                                            7, 7, 7, 7, \n",
        "                                                            8, \n",
        "                                                            9, 9, \n",
        "                                                            10, 10, 10,\n",
        "                                                            11, 11, 11, \n",
        "                                                            12, 12, 12, 12,  \n",
        "                                                            13, 13, 13, 13, \n",
        "                                                            14, 14, 14, 14, \n",
        "                                                            15, 15, \n",
        "                                                            16, 16, 16, \n",
        "                                                            17, 17, \n",
        "                                                            18, 18, \n",
        "                                                            19, 19, \n",
        "                                                            20, 20, 20, \n",
        "                                                            21, 21, 21, 21, 21,  \n",
        "                                                            22, 22, 22, \n",
        "                                                            23, 23, 23, 23, \n",
        "                                                            24, 24, 24, 24,\n",
        "                                                            25, 25, 25,  \n",
        "                                                            26, 26, 26,\n",
        "                                                            27, 27],\n",
        "                                          'cod_specific': [1, 16, 19,\n",
        "                                                           1, 16, 19,\n",
        "                                                           2, 5,\n",
        "                                                           2, 5, 7, 12,\n",
        "                                                           3,\n",
        "                                                           3, 5, \n",
        "                                                           1, 4, 16, 19,\n",
        "                                                           4, \n",
        "                                                           6, 19,\n",
        "                                                           6, 15, 19, \n",
        "                                                           5, 7, 19,\n",
        "                                                           5, 7, 18, 19,\n",
        "                                                           5, 7, 8, 12, \n",
        "                                                           5, 8, 16, 19, \n",
        "                                                           5, 11, \n",
        "                                                           1, 11, 19,\n",
        "                                                           13, 19,\n",
        "                                                           13, 19, \n",
        "                                                           14, 19, \n",
        "                                                           14, 17, 19, \n",
        "                                                           5, 12, 15, 16, 19, \n",
        "                                                           5, 17, 19, \n",
        "                                                           5, 16, 17, 19,\n",
        "                                                           5, 16, 17, 19,\n",
        "                                                           5, 18, 19, \n",
        "                                                           5, 18, 19, \n",
        "                                                           5, 19\n",
        "                                                          ]\n",
        "                              })\n",
        "\n",
        "bd_restaurant = tabel_restaurant_specific.to_csv(path_or_buf='Restaurant_Specific.csv', index=False)"
      ],
      "execution_count": 0,
      "outputs": []
    },
    {
      "metadata": {
        "id": "lM6EydD6u8wj",
        "colab_type": "code",
        "colab": {}
      },
      "cell_type": "code",
      "source": [
        "print (tabel_restaurant_specific)"
      ],
      "execution_count": 0,
      "outputs": []
    },
    {
      "metadata": {
        "id": "CZIFqzIHHvhc",
        "colab_type": "text"
      },
      "cell_type": "markdown",
      "source": [
        "##Create csv: \"Utilizator\""
      ]
    },
    {
      "metadata": {
        "id": "7IvwIgWDHxuW",
        "colab_type": "code",
        "colab": {}
      },
      "cell_type": "code",
      "source": [
        "tabel_utilizator = pd.DataFrame({'cod_utilizator': [1, 2, 3, 4, 5, 6, 7, 8, 9, 10, 11],\n",
        "                               'nume':['Pandele', 'Rogoz', 'Ionescu', 'Popescu',\n",
        "                                       'Poll', 'Suiu-Cristea', 'Sontea', \n",
        "                                       'Topana', 'Olaru', 'Banu', 'Vasilescu'],\n",
        "                               'prenume':['Maria-Smaranda', 'Ana-Cristina', \n",
        "                                          'Andreea', 'Calin', 'Francesca', \n",
        "                                          'Andreea', 'Ovidiu', 'Andrei', \n",
        "                                          'Sabin', 'Robert', 'Alexandru'],\n",
        "                               'email':['maria.pandele33@gmail.com',\n",
        "                                        'ana-cristina.rogoz@my.fmi.unibuc.ro',\n",
        "                                        'andreea.ionescu@gmail.com',\n",
        "                                        'calin.popescu@gmail.com',\n",
        "                                        'francesca.poll@gmail.com',\n",
        "                                        'andreea.suiu@gmail.com',\n",
        "                                        'ovidiu.sontea@gmail.com',\n",
        "                                        'andrei.topana@gmail.com',\n",
        "                                        'sabin.olaru@gmail.com',\n",
        "                                        'robert.banu@gmail.com',\n",
        "                                        'alexandru.vasilescu@gmail.com']\n",
        "                              })\n",
        "\n",
        "bd_utilizator = tabel_utilizator.to_csv(path_or_buf='Utilizator.csv', index=False)"
      ],
      "execution_count": 0,
      "outputs": []
    },
    {
      "metadata": {
        "id": "lyxJ4lOYJvtn",
        "colab_type": "code",
        "colab": {}
      },
      "cell_type": "code",
      "source": [
        "print (tabel_utilizator)"
      ],
      "execution_count": 0,
      "outputs": []
    },
    {
      "metadata": {
        "id": "jMsgvVg2TPhs",
        "colab_type": "text"
      },
      "cell_type": "markdown",
      "source": [
        "##Create csv: \"Preferinte_Specific\""
      ]
    },
    {
      "metadata": {
        "id": "Ea3XeGHmVSj8",
        "colab_type": "code",
        "colab": {}
      },
      "cell_type": "code",
      "source": [
        "print (tabel_specific)"
      ],
      "execution_count": 0,
      "outputs": []
    },
    {
      "metadata": {
        "id": "dUVPXA5GTO7w",
        "colab_type": "code",
        "colab": {}
      },
      "cell_type": "code",
      "source": [
        "tabel_preferinte_specific = pd.DataFrame({'cod_preferinta':[1, 2, 3, 4, 5, 6, 7,\n",
        "                                                           8, 9, 10, 11, 12, 13,\n",
        "                                                           14, 15, 16, 17, 18, \n",
        "                                                           19, 20, 21, 22], \n",
        "                               'cod_utilizator': [1, 1, \n",
        "                                                  2, 2,\n",
        "                                                  3, 3, \n",
        "                                                  4, 4, \n",
        "                                                  5, 5, \n",
        "                                                  6, 6,\n",
        "                                                  7, 7,\n",
        "                                                  8, 8,\n",
        "                                                  9, 9, \n",
        "                                                  10, 10, \n",
        "                                                  11, 11],\n",
        "                               'cod_specific': [5, 10,\n",
        "                                                8, 15, \n",
        "                                                13, 2, \n",
        "                                                11, 17, \n",
        "                                                1, 9, \n",
        "                                                3, 12, \n",
        "                                                4, 7, \n",
        "                                                5, 14, \n",
        "                                                6, 15, \n",
        "                                                10, 19, \n",
        "                                                12, 16]                                          \n",
        "                              })\n",
        "\n",
        "bd_preferinte_specific = tabel_preferinte_specific.to_csv(path_or_buf='Preferinte_Specific.csv', index=False)"
      ],
      "execution_count": 0,
      "outputs": []
    }
  ]
}